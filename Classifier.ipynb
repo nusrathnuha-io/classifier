{
 "cells": [
  {
   "cell_type": "code",
   "execution_count": 157,
   "id": "1c78325b-2a78-4fbc-8f01-6f76d49ec588",
   "metadata": {},
   "outputs": [],
   "source": [
    "import pandas as pd\n",
    "import numpy as np\n",
    "import tensorflow as tf\n",
    "from matplotlib import pyplot as plt\n",
    "from sklearn.preprocessing import LabelEncoder, StandardScaler\n",
    "from sklearn.model_selection import train_test_split\n",
    "from tensorflow.keras.models import Sequential\n",
    "from tensorflow.keras.layers import Dense, Dropout\n",
    "from tensorflow.keras.callbacks import EarlyStopping\n",
    "from sklearn.metrics import classification_report, confusion_matrix\n"
   ]
  },
  {
   "cell_type": "code",
   "execution_count": 158,
   "id": "4e034dc0-031c-477b-8c47-0d64dbebfbc2",
   "metadata": {},
   "outputs": [],
   "source": [
    "# Load the dataset\n",
    "data = pd.read_csv('sample.csv')"
   ]
  },
  {
   "cell_type": "code",
   "execution_count": 159,
   "id": "76c407e1-e80a-40f0-a0cc-aecf2d81c91b",
   "metadata": {},
   "outputs": [
    {
     "data": {
      "text/html": [
       "<div>\n",
       "<style scoped>\n",
       "    .dataframe tbody tr th:only-of-type {\n",
       "        vertical-align: middle;\n",
       "    }\n",
       "\n",
       "    .dataframe tbody tr th {\n",
       "        vertical-align: top;\n",
       "    }\n",
       "\n",
       "    .dataframe thead th {\n",
       "        text-align: right;\n",
       "    }\n",
       "</style>\n",
       "<table border=\"1\" class=\"dataframe\">\n",
       "  <thead>\n",
       "    <tr style=\"text-align: right;\">\n",
       "      <th></th>\n",
       "      <th>length_width_ratio</th>\n",
       "      <th>Stem_height</th>\n",
       "      <th>No_of_leaves</th>\n",
       "      <th>Angle_of_Leaf</th>\n",
       "      <th>Species</th>\n",
       "    </tr>\n",
       "  </thead>\n",
       "  <tbody>\n",
       "    <tr>\n",
       "      <th>0</th>\n",
       "      <td>15.0</td>\n",
       "      <td>6</td>\n",
       "      <td>60.0</td>\n",
       "      <td>45</td>\n",
       "      <td>Neomarica longifolia</td>\n",
       "    </tr>\n",
       "    <tr>\n",
       "      <th>1</th>\n",
       "      <td>10.9</td>\n",
       "      <td>7</td>\n",
       "      <td>80.0</td>\n",
       "      <td>30</td>\n",
       "      <td>Sorghum halepense</td>\n",
       "    </tr>\n",
       "    <tr>\n",
       "      <th>2</th>\n",
       "      <td>9.3</td>\n",
       "      <td>12</td>\n",
       "      <td>35.0</td>\n",
       "      <td>60</td>\n",
       "      <td>Pandanus amaryllifolius</td>\n",
       "    </tr>\n",
       "    <tr>\n",
       "      <th>3</th>\n",
       "      <td>21.1</td>\n",
       "      <td>8</td>\n",
       "      <td>59.0</td>\n",
       "      <td>50</td>\n",
       "      <td>Neomarica longifolia</td>\n",
       "    </tr>\n",
       "    <tr>\n",
       "      <th>4</th>\n",
       "      <td>22.5</td>\n",
       "      <td>9</td>\n",
       "      <td>98.0</td>\n",
       "      <td>35</td>\n",
       "      <td>Sorghum halepense</td>\n",
       "    </tr>\n",
       "  </tbody>\n",
       "</table>\n",
       "</div>"
      ],
      "text/plain": [
       "   length_width_ratio  Stem_height  No_of_leaves  Angle_of_Leaf   \n",
       "0                15.0            6          60.0             45  \\\n",
       "1                10.9            7          80.0             30   \n",
       "2                 9.3           12          35.0             60   \n",
       "3                21.1            8          59.0             50   \n",
       "4                22.5            9          98.0             35   \n",
       "\n",
       "                   Species  \n",
       "0     Neomarica longifolia  \n",
       "1        Sorghum halepense  \n",
       "2  Pandanus amaryllifolius  \n",
       "3     Neomarica longifolia  \n",
       "4        Sorghum halepense  "
      ]
     },
     "execution_count": 159,
     "metadata": {},
     "output_type": "execute_result"
    }
   ],
   "source": [
    "#create a column in the data DataFrame\n",
    "features = ['length_width_ratio', 'Stem_height', 'No_of_leaves', 'Angle_of_Leaf', 'Species']\n",
    "data.columns = features\n",
    "#inspect data\n",
    "data.head()"
   ]
  },
  {
   "cell_type": "code",
   "execution_count": 160,
   "id": "2434622a-e733-4096-a160-b92808ddcd8f",
   "metadata": {},
   "outputs": [
    {
     "name": "stdout",
     "output_type": "stream",
     "text": [
      "<class 'pandas.core.frame.DataFrame'>\n",
      "RangeIndex: 110 entries, 0 to 109\n",
      "Data columns (total 5 columns):\n",
      " #   Column              Non-Null Count  Dtype  \n",
      "---  ------              --------------  -----  \n",
      " 0   length_width_ratio  110 non-null    float64\n",
      " 1   Stem_height         110 non-null    int64  \n",
      " 2   No_of_leaves        110 non-null    float64\n",
      " 3   Angle_of_Leaf       110 non-null    int64  \n",
      " 4   Species             110 non-null    object \n",
      "dtypes: float64(2), int64(2), object(1)\n",
      "memory usage: 4.4+ KB\n"
     ]
    }
   ],
   "source": [
    "# dataframe information\n",
    "data.info()"
   ]
  },
  {
   "cell_type": "code",
   "execution_count": 161,
   "id": "77e28d38-2aeb-4158-bd3b-9f96ae8cdb64",
   "metadata": {},
   "outputs": [
    {
     "name": "stdout",
     "output_type": "stream",
     "text": [
      "['Neomarica longifolia' 'Sorghum halepense' 'Pandanus amaryllifolius']\n"
     ]
    }
   ],
   "source": [
    "# for each of the categorical columns, lets see the unique values\n",
    "for i in data.columns:\n",
    "    # print(i)\n",
    "    if data[i].dtype == object:\n",
    "        print(data[i].unique())\n"
   ]
  },
  {
   "cell_type": "code",
   "execution_count": 162,
   "id": "2ac71b3c-3e8a-4478-8c66-c6ea362fe684",
   "metadata": {},
   "outputs": [
    {
     "data": {
      "text/html": [
       "<div>\n",
       "<style scoped>\n",
       "    .dataframe tbody tr th:only-of-type {\n",
       "        vertical-align: middle;\n",
       "    }\n",
       "\n",
       "    .dataframe tbody tr th {\n",
       "        vertical-align: top;\n",
       "    }\n",
       "\n",
       "    .dataframe thead th {\n",
       "        text-align: right;\n",
       "    }\n",
       "</style>\n",
       "<table border=\"1\" class=\"dataframe\">\n",
       "  <thead>\n",
       "    <tr style=\"text-align: right;\">\n",
       "      <th></th>\n",
       "      <th>length_width_ratio</th>\n",
       "      <th>Stem_height</th>\n",
       "      <th>No_of_leaves</th>\n",
       "      <th>Angle_of_Leaf</th>\n",
       "    </tr>\n",
       "  </thead>\n",
       "  <tbody>\n",
       "    <tr>\n",
       "      <th>0</th>\n",
       "      <td>15.0</td>\n",
       "      <td>6</td>\n",
       "      <td>60.0</td>\n",
       "      <td>45</td>\n",
       "    </tr>\n",
       "    <tr>\n",
       "      <th>1</th>\n",
       "      <td>10.9</td>\n",
       "      <td>7</td>\n",
       "      <td>80.0</td>\n",
       "      <td>30</td>\n",
       "    </tr>\n",
       "    <tr>\n",
       "      <th>2</th>\n",
       "      <td>9.3</td>\n",
       "      <td>12</td>\n",
       "      <td>35.0</td>\n",
       "      <td>60</td>\n",
       "    </tr>\n",
       "    <tr>\n",
       "      <th>3</th>\n",
       "      <td>21.1</td>\n",
       "      <td>8</td>\n",
       "      <td>59.0</td>\n",
       "      <td>50</td>\n",
       "    </tr>\n",
       "    <tr>\n",
       "      <th>4</th>\n",
       "      <td>22.5</td>\n",
       "      <td>9</td>\n",
       "      <td>98.0</td>\n",
       "      <td>35</td>\n",
       "    </tr>\n",
       "  </tbody>\n",
       "</table>\n",
       "</div>"
      ],
      "text/plain": [
       "   length_width_ratio  Stem_height  No_of_leaves  Angle_of_Leaf\n",
       "0                15.0            6          60.0             45\n",
       "1                10.9            7          80.0             30\n",
       "2                 9.3           12          35.0             60\n",
       "3                21.1            8          59.0             50\n",
       "4                22.5            9          98.0             35"
      ]
     },
     "execution_count": 162,
     "metadata": {},
     "output_type": "execute_result"
    }
   ],
   "source": [
    "# Extract features and target variable\n",
    "X = data.drop('Species', axis=1)\n",
    "y = data['Species']\n",
    "\n",
    "\n",
    "# Preview features\n",
    "X.head()"
   ]
  },
  {
   "cell_type": "code",
   "execution_count": 163,
   "id": "6a3bd17a-8422-456c-9885-f5059fb5f90f",
   "metadata": {},
   "outputs": [],
   "source": [
    "# Normalize the input features\n",
    "scaler = StandardScaler()\n",
    "X = scaler.fit_transform(X)\n"
   ]
  },
  {
   "cell_type": "code",
   "execution_count": 164,
   "id": "7125919e-cd90-467c-9b9f-56477dda9f4f",
   "metadata": {},
   "outputs": [],
   "source": [
    "# Encode the categorical target variable\n",
    "label_encoder = LabelEncoder()\n",
    "y = label_encoder.fit_transform(y)\n"
   ]
  },
  {
   "cell_type": "code",
   "execution_count": 165,
   "id": "24adf3b1-0400-43eb-af2a-6ab874c22ebe",
   "metadata": {},
   "outputs": [],
   "source": [
    "# Split the data into training and testing sets\n",
    "X_train, X_test, y_train, y_test = train_test_split(X, y, test_size=0.2, random_state=42)"
   ]
  },
  {
   "cell_type": "code",
   "execution_count": 172,
   "id": "34ef8a77-8c5b-4c76-b308-c79af4a719c6",
   "metadata": {},
   "outputs": [],
   "source": [
    "\n",
    "\n",
    "# Define the number of features and classes based on your dataset\n",
    "num_features = X_train.shape[1]  # Assuming X_train is your feature matrix\n",
    "num_classes = len(np.unique(y_train))  # Assuming y_train is your label vector\n",
    "\n",
    "# Define the neural network model\n",
    "model = Sequential([\n",
    "Dense(64, activation='relu', input_shape=(num_features,)),\n",
    "Dropout(0.5),\n",
    "Dense(64, activation='relu'), \n",
    "Dropout(0.5),\n",
    "Dense(num_classes, activation='softmax')\n",
    "])"
   ]
  },
  {
   "cell_type": "code",
   "execution_count": 173,
   "id": "c31671de-70aa-4eb0-8282-e261fab2a523",
   "metadata": {},
   "outputs": [],
   "source": [
    "# Compile the model\n",
    "model.compile(optimizer='adam',\n",
    "              loss='sparse_categorical_crossentropy',\n",
    "              metrics=['accuracy'])\n"
   ]
  },
  {
   "cell_type": "code",
   "execution_count": 174,
   "id": "a6ff68ce-100a-40ab-a378-f73034d8bc1d",
   "metadata": {},
   "outputs": [
    {
     "name": "stdout",
     "output_type": "stream",
     "text": [
      "Epoch 1/300\n",
      "\u001b[1m1/1\u001b[0m \u001b[32m━━━━━━━━━━━━━━━━━━━━\u001b[0m\u001b[37m\u001b[0m \u001b[1m1s\u001b[0m 1s/step - accuracy: 0.2714 - loss: 1.1545 - val_accuracy: 0.0556 - val_loss: 1.1266\n",
      "Epoch 2/300\n",
      "\u001b[1m1/1\u001b[0m \u001b[32m━━━━━━━━━━━━━━━━━━━━\u001b[0m\u001b[37m\u001b[0m \u001b[1m0s\u001b[0m 69ms/step - accuracy: 0.2286 - loss: 1.1481 - val_accuracy: 0.0556 - val_loss: 1.0962\n",
      "Epoch 3/300\n",
      "\u001b[1m1/1\u001b[0m \u001b[32m━━━━━━━━━━━━━━━━━━━━\u001b[0m\u001b[37m\u001b[0m \u001b[1m0s\u001b[0m 55ms/step - accuracy: 0.3429 - loss: 1.0850 - val_accuracy: 0.1111 - val_loss: 1.0673\n",
      "Epoch 4/300\n",
      "\u001b[1m1/1\u001b[0m \u001b[32m━━━━━━━━━━━━━━━━━━━━\u001b[0m\u001b[37m\u001b[0m \u001b[1m0s\u001b[0m 73ms/step - accuracy: 0.3571 - loss: 1.1532 - val_accuracy: 0.1111 - val_loss: 1.0400\n",
      "Epoch 5/300\n",
      "\u001b[1m1/1\u001b[0m \u001b[32m━━━━━━━━━━━━━━━━━━━━\u001b[0m\u001b[37m\u001b[0m \u001b[1m0s\u001b[0m 70ms/step - accuracy: 0.4571 - loss: 1.0245 - val_accuracy: 0.3889 - val_loss: 1.0131\n",
      "Epoch 6/300\n",
      "\u001b[1m1/1\u001b[0m \u001b[32m━━━━━━━━━━━━━━━━━━━━\u001b[0m\u001b[37m\u001b[0m \u001b[1m0s\u001b[0m 69ms/step - accuracy: 0.5286 - loss: 1.0163 - val_accuracy: 0.5556 - val_loss: 0.9874\n",
      "Epoch 7/300\n",
      "\u001b[1m1/1\u001b[0m \u001b[32m━━━━━━━━━━━━━━━━━━━━\u001b[0m\u001b[37m\u001b[0m \u001b[1m0s\u001b[0m 53ms/step - accuracy: 0.4286 - loss: 1.0179 - val_accuracy: 0.6667 - val_loss: 0.9625\n",
      "Epoch 8/300\n",
      "\u001b[1m1/1\u001b[0m \u001b[32m━━━━━━━━━━━━━━━━━━━━\u001b[0m\u001b[37m\u001b[0m \u001b[1m0s\u001b[0m 57ms/step - accuracy: 0.5286 - loss: 1.0231 - val_accuracy: 0.6667 - val_loss: 0.9387\n",
      "Epoch 9/300\n",
      "\u001b[1m1/1\u001b[0m \u001b[32m━━━━━━━━━━━━━━━━━━━━\u001b[0m\u001b[37m\u001b[0m \u001b[1m0s\u001b[0m 64ms/step - accuracy: 0.5143 - loss: 0.9745 - val_accuracy: 0.6667 - val_loss: 0.9157\n",
      "Epoch 10/300\n",
      "\u001b[1m1/1\u001b[0m \u001b[32m━━━━━━━━━━━━━━━━━━━━\u001b[0m\u001b[37m\u001b[0m \u001b[1m0s\u001b[0m 61ms/step - accuracy: 0.5429 - loss: 1.0051 - val_accuracy: 0.7222 - val_loss: 0.8932\n",
      "Epoch 11/300\n",
      "\u001b[1m1/1\u001b[0m \u001b[32m━━━━━━━━━━━━━━━━━━━━\u001b[0m\u001b[37m\u001b[0m \u001b[1m0s\u001b[0m 61ms/step - accuracy: 0.5000 - loss: 0.9491 - val_accuracy: 0.7222 - val_loss: 0.8715\n",
      "Epoch 12/300\n",
      "\u001b[1m1/1\u001b[0m \u001b[32m━━━━━━━━━━━━━━━━━━━━\u001b[0m\u001b[37m\u001b[0m \u001b[1m0s\u001b[0m 76ms/step - accuracy: 0.6286 - loss: 0.8797 - val_accuracy: 0.7222 - val_loss: 0.8499\n",
      "Epoch 13/300\n",
      "\u001b[1m1/1\u001b[0m \u001b[32m━━━━━━━━━━━━━━━━━━━━\u001b[0m\u001b[37m\u001b[0m \u001b[1m0s\u001b[0m 55ms/step - accuracy: 0.6286 - loss: 0.8650 - val_accuracy: 0.7222 - val_loss: 0.8290\n",
      "Epoch 14/300\n",
      "\u001b[1m1/1\u001b[0m \u001b[32m━━━━━━━━━━━━━━━━━━━━\u001b[0m\u001b[37m\u001b[0m \u001b[1m0s\u001b[0m 62ms/step - accuracy: 0.6143 - loss: 0.8664 - val_accuracy: 0.7222 - val_loss: 0.8081\n",
      "Epoch 15/300\n",
      "\u001b[1m1/1\u001b[0m \u001b[32m━━━━━━━━━━━━━━━━━━━━\u001b[0m\u001b[37m\u001b[0m \u001b[1m0s\u001b[0m 71ms/step - accuracy: 0.6714 - loss: 0.8131 - val_accuracy: 0.7222 - val_loss: 0.7877\n",
      "Epoch 16/300\n",
      "\u001b[1m1/1\u001b[0m \u001b[32m━━━━━━━━━━━━━━━━━━━━\u001b[0m\u001b[37m\u001b[0m \u001b[1m0s\u001b[0m 83ms/step - accuracy: 0.8000 - loss: 0.7671 - val_accuracy: 0.7222 - val_loss: 0.7680\n",
      "Epoch 17/300\n",
      "\u001b[1m1/1\u001b[0m \u001b[32m━━━━━━━━━━━━━━━━━━━━\u001b[0m\u001b[37m\u001b[0m \u001b[1m0s\u001b[0m 65ms/step - accuracy: 0.7143 - loss: 0.7844 - val_accuracy: 0.7222 - val_loss: 0.7491\n",
      "Epoch 18/300\n",
      "\u001b[1m1/1\u001b[0m \u001b[32m━━━━━━━━━━━━━━━━━━━━\u001b[0m\u001b[37m\u001b[0m \u001b[1m0s\u001b[0m 64ms/step - accuracy: 0.7143 - loss: 0.8081 - val_accuracy: 0.7222 - val_loss: 0.7306\n",
      "Epoch 19/300\n",
      "\u001b[1m1/1\u001b[0m \u001b[32m━━━━━━━━━━━━━━━━━━━━\u001b[0m\u001b[37m\u001b[0m \u001b[1m0s\u001b[0m 53ms/step - accuracy: 0.7143 - loss: 0.8371 - val_accuracy: 0.7222 - val_loss: 0.7128\n",
      "Epoch 20/300\n",
      "\u001b[1m1/1\u001b[0m \u001b[32m━━━━━━━━━━━━━━━━━━━━\u001b[0m\u001b[37m\u001b[0m \u001b[1m0s\u001b[0m 68ms/step - accuracy: 0.8286 - loss: 0.6933 - val_accuracy: 0.7778 - val_loss: 0.6954\n",
      "Epoch 21/300\n",
      "\u001b[1m1/1\u001b[0m \u001b[32m━━━━━━━━━━━━━━━━━━━━\u001b[0m\u001b[37m\u001b[0m \u001b[1m0s\u001b[0m 47ms/step - accuracy: 0.8000 - loss: 0.7651 - val_accuracy: 0.7778 - val_loss: 0.6786\n",
      "Epoch 22/300\n",
      "\u001b[1m1/1\u001b[0m \u001b[32m━━━━━━━━━━━━━━━━━━━━\u001b[0m\u001b[37m\u001b[0m \u001b[1m0s\u001b[0m 56ms/step - accuracy: 0.8714 - loss: 0.6631 - val_accuracy: 0.7778 - val_loss: 0.6621\n",
      "Epoch 23/300\n",
      "\u001b[1m1/1\u001b[0m \u001b[32m━━━━━━━━━━━━━━━━━━━━\u001b[0m\u001b[37m\u001b[0m \u001b[1m0s\u001b[0m 46ms/step - accuracy: 0.7429 - loss: 0.7141 - val_accuracy: 0.8333 - val_loss: 0.6458\n",
      "Epoch 24/300\n",
      "\u001b[1m1/1\u001b[0m \u001b[32m━━━━━━━━━━━━━━━━━━━━\u001b[0m\u001b[37m\u001b[0m \u001b[1m0s\u001b[0m 71ms/step - accuracy: 0.8286 - loss: 0.6685 - val_accuracy: 0.8333 - val_loss: 0.6298\n",
      "Epoch 25/300\n",
      "\u001b[1m1/1\u001b[0m \u001b[32m━━━━━━━━━━━━━━━━━━━━\u001b[0m\u001b[37m\u001b[0m \u001b[1m0s\u001b[0m 88ms/step - accuracy: 0.8714 - loss: 0.6290 - val_accuracy: 0.8333 - val_loss: 0.6146\n",
      "Epoch 26/300\n",
      "\u001b[1m1/1\u001b[0m \u001b[32m━━━━━━━━━━━━━━━━━━━━\u001b[0m\u001b[37m\u001b[0m \u001b[1m0s\u001b[0m 71ms/step - accuracy: 0.8714 - loss: 0.6200 - val_accuracy: 0.8333 - val_loss: 0.6000\n",
      "Epoch 27/300\n",
      "\u001b[1m1/1\u001b[0m \u001b[32m━━━━━━━━━━━━━━━━━━━━\u001b[0m\u001b[37m\u001b[0m \u001b[1m0s\u001b[0m 52ms/step - accuracy: 0.7857 - loss: 0.6563 - val_accuracy: 0.8333 - val_loss: 0.5857\n",
      "Epoch 28/300\n",
      "\u001b[1m1/1\u001b[0m \u001b[32m━━━━━━━━━━━━━━━━━━━━\u001b[0m\u001b[37m\u001b[0m \u001b[1m0s\u001b[0m 59ms/step - accuracy: 0.8429 - loss: 0.6136 - val_accuracy: 0.8333 - val_loss: 0.5722\n",
      "Epoch 29/300\n",
      "\u001b[1m1/1\u001b[0m \u001b[32m━━━━━━━━━━━━━━━━━━━━\u001b[0m\u001b[37m\u001b[0m \u001b[1m0s\u001b[0m 56ms/step - accuracy: 0.7857 - loss: 0.6738 - val_accuracy: 0.8333 - val_loss: 0.5591\n",
      "Epoch 30/300\n",
      "\u001b[1m1/1\u001b[0m \u001b[32m━━━━━━━━━━━━━━━━━━━━\u001b[0m\u001b[37m\u001b[0m \u001b[1m0s\u001b[0m 55ms/step - accuracy: 0.8714 - loss: 0.5761 - val_accuracy: 0.8333 - val_loss: 0.5466\n",
      "Epoch 31/300\n",
      "\u001b[1m1/1\u001b[0m \u001b[32m━━━━━━━━━━━━━━━━━━━━\u001b[0m\u001b[37m\u001b[0m \u001b[1m0s\u001b[0m 56ms/step - accuracy: 0.8857 - loss: 0.5868 - val_accuracy: 0.8333 - val_loss: 0.5347\n",
      "Epoch 32/300\n",
      "\u001b[1m1/1\u001b[0m \u001b[32m━━━━━━━━━━━━━━━━━━━━\u001b[0m\u001b[37m\u001b[0m \u001b[1m0s\u001b[0m 44ms/step - accuracy: 0.8286 - loss: 0.5818 - val_accuracy: 0.8333 - val_loss: 0.5233\n",
      "Epoch 33/300\n",
      "\u001b[1m1/1\u001b[0m \u001b[32m━━━━━━━━━━━━━━━━━━━━\u001b[0m\u001b[37m\u001b[0m \u001b[1m0s\u001b[0m 53ms/step - accuracy: 0.9143 - loss: 0.6086 - val_accuracy: 0.8333 - val_loss: 0.5125\n",
      "Epoch 34/300\n",
      "\u001b[1m1/1\u001b[0m \u001b[32m━━━━━━━━━━━━━━━━━━━━\u001b[0m\u001b[37m\u001b[0m \u001b[1m0s\u001b[0m 48ms/step - accuracy: 0.8286 - loss: 0.5254 - val_accuracy: 0.8333 - val_loss: 0.5019\n",
      "Epoch 35/300\n",
      "\u001b[1m1/1\u001b[0m \u001b[32m━━━━━━━━━━━━━━━━━━━━\u001b[0m\u001b[37m\u001b[0m \u001b[1m0s\u001b[0m 49ms/step - accuracy: 0.8857 - loss: 0.4946 - val_accuracy: 0.8333 - val_loss: 0.4918\n",
      "Epoch 36/300\n",
      "\u001b[1m1/1\u001b[0m \u001b[32m━━━━━━━━━━━━━━━━━━━━\u001b[0m\u001b[37m\u001b[0m \u001b[1m0s\u001b[0m 57ms/step - accuracy: 0.8571 - loss: 0.4873 - val_accuracy: 0.8333 - val_loss: 0.4821\n",
      "Epoch 37/300\n",
      "\u001b[1m1/1\u001b[0m \u001b[32m━━━━━━━━━━━━━━━━━━━━\u001b[0m\u001b[37m\u001b[0m \u001b[1m0s\u001b[0m 62ms/step - accuracy: 0.8857 - loss: 0.4930 - val_accuracy: 0.8333 - val_loss: 0.4727\n",
      "Epoch 38/300\n",
      "\u001b[1m1/1\u001b[0m \u001b[32m━━━━━━━━━━━━━━━━━━━━\u001b[0m\u001b[37m\u001b[0m \u001b[1m0s\u001b[0m 47ms/step - accuracy: 0.9000 - loss: 0.4874 - val_accuracy: 0.8333 - val_loss: 0.4639\n",
      "Epoch 39/300\n",
      "\u001b[1m1/1\u001b[0m \u001b[32m━━━━━━━━━━━━━━━━━━━━\u001b[0m\u001b[37m\u001b[0m \u001b[1m0s\u001b[0m 57ms/step - accuracy: 0.8571 - loss: 0.4749 - val_accuracy: 0.8333 - val_loss: 0.4557\n",
      "Epoch 40/300\n",
      "\u001b[1m1/1\u001b[0m \u001b[32m━━━━━━━━━━━━━━━━━━━━\u001b[0m\u001b[37m\u001b[0m \u001b[1m0s\u001b[0m 66ms/step - accuracy: 0.8714 - loss: 0.4715 - val_accuracy: 0.8889 - val_loss: 0.4478\n",
      "Epoch 41/300\n",
      "\u001b[1m1/1\u001b[0m \u001b[32m━━━━━━━━━━━━━━━━━━━━\u001b[0m\u001b[37m\u001b[0m \u001b[1m0s\u001b[0m 87ms/step - accuracy: 0.9000 - loss: 0.4647 - val_accuracy: 0.8889 - val_loss: 0.4406\n",
      "Epoch 42/300\n",
      "\u001b[1m1/1\u001b[0m \u001b[32m━━━━━━━━━━━━━━━━━━━━\u001b[0m\u001b[37m\u001b[0m \u001b[1m0s\u001b[0m 62ms/step - accuracy: 0.8286 - loss: 0.4751 - val_accuracy: 0.8889 - val_loss: 0.4336\n",
      "Epoch 43/300\n",
      "\u001b[1m1/1\u001b[0m \u001b[32m━━━━━━━━━━━━━━━━━━━━\u001b[0m\u001b[37m\u001b[0m \u001b[1m0s\u001b[0m 63ms/step - accuracy: 0.8571 - loss: 0.4540 - val_accuracy: 0.8889 - val_loss: 0.4264\n",
      "Epoch 44/300\n",
      "\u001b[1m1/1\u001b[0m \u001b[32m━━━━━━━━━━━━━━━━━━━━\u001b[0m\u001b[37m\u001b[0m \u001b[1m0s\u001b[0m 70ms/step - accuracy: 0.8857 - loss: 0.4103 - val_accuracy: 0.9444 - val_loss: 0.4197\n",
      "Epoch 45/300\n",
      "\u001b[1m1/1\u001b[0m \u001b[32m━━━━━━━━━━━━━━━━━━━━\u001b[0m\u001b[37m\u001b[0m \u001b[1m0s\u001b[0m 61ms/step - accuracy: 0.9286 - loss: 0.3794 - val_accuracy: 0.9444 - val_loss: 0.4131\n",
      "Epoch 46/300\n",
      "\u001b[1m1/1\u001b[0m \u001b[32m━━━━━━━━━━━━━━━━━━━━\u001b[0m\u001b[37m\u001b[0m \u001b[1m0s\u001b[0m 65ms/step - accuracy: 0.8429 - loss: 0.4117 - val_accuracy: 0.9444 - val_loss: 0.4069\n",
      "Epoch 47/300\n",
      "\u001b[1m1/1\u001b[0m \u001b[32m━━━━━━━━━━━━━━━━━━━━\u001b[0m\u001b[37m\u001b[0m \u001b[1m0s\u001b[0m 65ms/step - accuracy: 0.9286 - loss: 0.3902 - val_accuracy: 0.9444 - val_loss: 0.4011\n",
      "Epoch 48/300\n",
      "\u001b[1m1/1\u001b[0m \u001b[32m━━━━━━━━━━━━━━━━━━━━\u001b[0m\u001b[37m\u001b[0m \u001b[1m0s\u001b[0m 69ms/step - accuracy: 0.8571 - loss: 0.4106 - val_accuracy: 0.9444 - val_loss: 0.3957\n",
      "Epoch 49/300\n",
      "\u001b[1m1/1\u001b[0m \u001b[32m━━━━━━━━━━━━━━━━━━━━\u001b[0m\u001b[37m\u001b[0m \u001b[1m0s\u001b[0m 68ms/step - accuracy: 0.9143 - loss: 0.3805 - val_accuracy: 0.9444 - val_loss: 0.3903\n",
      "Epoch 50/300\n",
      "\u001b[1m1/1\u001b[0m \u001b[32m━━━━━━━━━━━━━━━━━━━━\u001b[0m\u001b[37m\u001b[0m \u001b[1m0s\u001b[0m 72ms/step - accuracy: 0.9000 - loss: 0.4294 - val_accuracy: 0.9444 - val_loss: 0.3850\n",
      "Epoch 51/300\n",
      "\u001b[1m1/1\u001b[0m \u001b[32m━━━━━━━━━━━━━━━━━━━━\u001b[0m\u001b[37m\u001b[0m \u001b[1m0s\u001b[0m 58ms/step - accuracy: 0.9143 - loss: 0.3686 - val_accuracy: 0.9444 - val_loss: 0.3804\n",
      "Epoch 52/300\n",
      "\u001b[1m1/1\u001b[0m \u001b[32m━━━━━━━━━━━━━━━━━━━━\u001b[0m\u001b[37m\u001b[0m \u001b[1m0s\u001b[0m 65ms/step - accuracy: 0.8857 - loss: 0.4142 - val_accuracy: 0.9444 - val_loss: 0.3766\n",
      "Epoch 53/300\n",
      "\u001b[1m1/1\u001b[0m \u001b[32m━━━━━━━━━━━━━━━━━━━━\u001b[0m\u001b[37m\u001b[0m \u001b[1m0s\u001b[0m 77ms/step - accuracy: 0.9286 - loss: 0.3342 - val_accuracy: 0.9444 - val_loss: 0.3731\n",
      "Epoch 54/300\n",
      "\u001b[1m1/1\u001b[0m \u001b[32m━━━━━━━━━━━━━━━━━━━━\u001b[0m\u001b[37m\u001b[0m \u001b[1m0s\u001b[0m 81ms/step - accuracy: 0.8714 - loss: 0.3495 - val_accuracy: 0.9444 - val_loss: 0.3696\n",
      "Epoch 55/300\n",
      "\u001b[1m1/1\u001b[0m \u001b[32m━━━━━━━━━━━━━━━━━━━━\u001b[0m\u001b[37m\u001b[0m \u001b[1m0s\u001b[0m 82ms/step - accuracy: 0.9143 - loss: 0.3761 - val_accuracy: 0.9444 - val_loss: 0.3661\n",
      "Epoch 56/300\n",
      "\u001b[1m1/1\u001b[0m \u001b[32m━━━━━━━━━━━━━━━━━━━━\u001b[0m\u001b[37m\u001b[0m \u001b[1m0s\u001b[0m 57ms/step - accuracy: 0.9143 - loss: 0.3792 - val_accuracy: 0.9444 - val_loss: 0.3628\n",
      "Epoch 57/300\n",
      "\u001b[1m1/1\u001b[0m \u001b[32m━━━━━━━━━━━━━━━━━━━━\u001b[0m\u001b[37m\u001b[0m \u001b[1m0s\u001b[0m 60ms/step - accuracy: 0.9000 - loss: 0.3508 - val_accuracy: 0.9444 - val_loss: 0.3593\n",
      "Epoch 58/300\n",
      "\u001b[1m1/1\u001b[0m \u001b[32m━━━━━━━━━━━━━━━━━━━━\u001b[0m\u001b[37m\u001b[0m \u001b[1m0s\u001b[0m 58ms/step - accuracy: 0.9143 - loss: 0.3118 - val_accuracy: 0.9444 - val_loss: 0.3561\n",
      "Epoch 59/300\n",
      "\u001b[1m1/1\u001b[0m \u001b[32m━━━━━━━━━━━━━━━━━━━━\u001b[0m\u001b[37m\u001b[0m \u001b[1m0s\u001b[0m 68ms/step - accuracy: 0.9143 - loss: 0.3238 - val_accuracy: 0.9444 - val_loss: 0.3532\n",
      "Epoch 60/300\n",
      "\u001b[1m1/1\u001b[0m \u001b[32m━━━━━━━━━━━━━━━━━━━━\u001b[0m\u001b[37m\u001b[0m \u001b[1m0s\u001b[0m 61ms/step - accuracy: 0.9000 - loss: 0.3272 - val_accuracy: 0.9444 - val_loss: 0.3505\n",
      "Epoch 61/300\n",
      "\u001b[1m1/1\u001b[0m \u001b[32m━━━━━━━━━━━━━━━━━━━━\u001b[0m\u001b[37m\u001b[0m \u001b[1m0s\u001b[0m 68ms/step - accuracy: 0.9714 - loss: 0.3165 - val_accuracy: 0.9444 - val_loss: 0.3487\n",
      "Epoch 62/300\n",
      "\u001b[1m1/1\u001b[0m \u001b[32m━━━━━━━━━━━━━━━━━━━━\u001b[0m\u001b[37m\u001b[0m \u001b[1m0s\u001b[0m 60ms/step - accuracy: 0.9286 - loss: 0.3610 - val_accuracy: 0.9444 - val_loss: 0.3471\n",
      "Epoch 63/300\n",
      "\u001b[1m1/1\u001b[0m \u001b[32m━━━━━━━━━━━━━━━━━━━━\u001b[0m\u001b[37m\u001b[0m \u001b[1m0s\u001b[0m 66ms/step - accuracy: 0.9000 - loss: 0.3299 - val_accuracy: 0.9444 - val_loss: 0.3457\n",
      "Epoch 64/300\n",
      "\u001b[1m1/1\u001b[0m \u001b[32m━━━━━━━━━━━━━━━━━━━━\u001b[0m\u001b[37m\u001b[0m \u001b[1m0s\u001b[0m 77ms/step - accuracy: 0.9286 - loss: 0.3388 - val_accuracy: 0.9444 - val_loss: 0.3450\n",
      "Epoch 65/300\n",
      "\u001b[1m1/1\u001b[0m \u001b[32m━━━━━━━━━━━━━━━━━━━━\u001b[0m\u001b[37m\u001b[0m \u001b[1m0s\u001b[0m 67ms/step - accuracy: 0.9143 - loss: 0.2922 - val_accuracy: 0.9444 - val_loss: 0.3445\n",
      "Epoch 66/300\n",
      "\u001b[1m1/1\u001b[0m \u001b[32m━━━━━━━━━━━━━━━━━━━━\u001b[0m\u001b[37m\u001b[0m \u001b[1m0s\u001b[0m 73ms/step - accuracy: 0.9571 - loss: 0.2592 - val_accuracy: 0.9444 - val_loss: 0.3443\n",
      "Epoch 67/300\n",
      "\u001b[1m1/1\u001b[0m \u001b[32m━━━━━━━━━━━━━━━━━━━━\u001b[0m\u001b[37m\u001b[0m \u001b[1m0s\u001b[0m 70ms/step - accuracy: 0.9429 - loss: 0.3464 - val_accuracy: 0.9444 - val_loss: 0.3444\n",
      "Epoch 68/300\n",
      "\u001b[1m1/1\u001b[0m \u001b[32m━━━━━━━━━━━━━━━━━━━━\u001b[0m\u001b[37m\u001b[0m \u001b[1m0s\u001b[0m 65ms/step - accuracy: 0.9000 - loss: 0.2825 - val_accuracy: 0.9444 - val_loss: 0.3447\n",
      "Epoch 69/300\n",
      "\u001b[1m1/1\u001b[0m \u001b[32m━━━━━━━━━━━━━━━━━━━━\u001b[0m\u001b[37m\u001b[0m \u001b[1m0s\u001b[0m 78ms/step - accuracy: 0.9000 - loss: 0.2608 - val_accuracy: 0.9444 - val_loss: 0.3452\n",
      "Epoch 70/300\n",
      "\u001b[1m1/1\u001b[0m \u001b[32m━━━━━━━━━━━━━━━━━━━━\u001b[0m\u001b[37m\u001b[0m \u001b[1m0s\u001b[0m 84ms/step - accuracy: 0.9143 - loss: 0.3039 - val_accuracy: 0.9444 - val_loss: 0.3456\n",
      "Epoch 71/300\n",
      "\u001b[1m1/1\u001b[0m \u001b[32m━━━━━━━━━━━━━━━━━━━━\u001b[0m\u001b[37m\u001b[0m \u001b[1m0s\u001b[0m 66ms/step - accuracy: 0.9429 - loss: 0.2743 - val_accuracy: 0.9444 - val_loss: 0.3462\n",
      "Epoch 72/300\n",
      "\u001b[1m1/1\u001b[0m \u001b[32m━━━━━━━━━━━━━━━━━━━━\u001b[0m\u001b[37m\u001b[0m \u001b[1m0s\u001b[0m 76ms/step - accuracy: 0.9143 - loss: 0.2866 - val_accuracy: 0.9444 - val_loss: 0.3470\n",
      "Epoch 73/300\n",
      "\u001b[1m1/1\u001b[0m \u001b[32m━━━━━━━━━━━━━━━━━━━━\u001b[0m\u001b[37m\u001b[0m \u001b[1m0s\u001b[0m 74ms/step - accuracy: 0.9571 - loss: 0.2968 - val_accuracy: 0.9444 - val_loss: 0.3478\n",
      "Epoch 74/300\n",
      "\u001b[1m1/1\u001b[0m \u001b[32m━━━━━━━━━━━━━━━━━━━━\u001b[0m\u001b[37m\u001b[0m \u001b[1m0s\u001b[0m 67ms/step - accuracy: 0.9429 - loss: 0.2312 - val_accuracy: 0.9444 - val_loss: 0.3486\n",
      "Epoch 75/300\n",
      "\u001b[1m1/1\u001b[0m \u001b[32m━━━━━━━━━━━━━━━━━━━━\u001b[0m\u001b[37m\u001b[0m \u001b[1m0s\u001b[0m 80ms/step - accuracy: 0.9714 - loss: 0.2296 - val_accuracy: 0.9444 - val_loss: 0.3495\n",
      "Epoch 76/300\n",
      "\u001b[1m1/1\u001b[0m \u001b[32m━━━━━━━━━━━━━━━━━━━━\u001b[0m\u001b[37m\u001b[0m \u001b[1m0s\u001b[0m 72ms/step - accuracy: 0.9714 - loss: 0.2586 - val_accuracy: 0.9444 - val_loss: 0.3505\n"
     ]
    }
   ],
   "source": [
    " #Define EarlyStopping callback\n",
    "early_stopping = EarlyStopping(monitor='val_loss', patience=10)\n",
    "\n",
    "# Fit the model\n",
    "history = model.fit(X_train, y_train, batch_size=256, epochs=300,\n",
    "                    verbose=1, validation_split=0.2, callbacks=[early_stopping])\n",
    "\n",
    "\n"
   ]
  },
  {
   "cell_type": "code",
   "execution_count": 177,
   "id": "2d293add-4782-458f-8ff8-3d811a58d168",
   "metadata": {},
   "outputs": [
    {
     "name": "stdout",
     "output_type": "stream",
     "text": [
      "\u001b[1m3/3\u001b[0m \u001b[32m━━━━━━━━━━━━━━━━━━━━\u001b[0m\u001b[37m\u001b[0m \u001b[1m0s\u001b[0m 7ms/step - accuracy: 0.9499 - loss: 0.2033 \n",
      "Train Loss: 0.21288593113422394\n",
      "Train Accuracy: 0.9545454382896423\n",
      "\u001b[1m1/1\u001b[0m \u001b[32m━━━━━━━━━━━━━━━━━━━━\u001b[0m\u001b[37m\u001b[0m \u001b[1m0s\u001b[0m 21ms/step - accuracy: 0.9091 - loss: 0.2563\n",
      "Test Loss: 0.2562521994113922\n",
      "Test Accuracy: 0.9090909361839294\n",
      "\u001b[1m1/1\u001b[0m \u001b[32m━━━━━━━━━━━━━━━━━━━━\u001b[0m\u001b[37m\u001b[0m \u001b[1m0s\u001b[0m 24ms/step\n",
      "Test Set Classification Report:\n",
      "              precision    recall  f1-score   support\n",
      "\n",
      "           0       1.00      0.85      0.92        13\n",
      "           1       0.80      1.00      0.89         4\n",
      "           2       0.83      1.00      0.91         5\n",
      "\n",
      "    accuracy                           0.91        22\n",
      "   macro avg       0.88      0.95      0.90        22\n",
      "weighted avg       0.93      0.91      0.91        22\n",
      "\n",
      "Test Set Confusion Matrix:\n",
      "[[11  1  1]\n",
      " [ 0  4  0]\n",
      " [ 0  0  5]]\n"
     ]
    }
   ],
   "source": [
    "from sklearn.metrics import classification_report, confusion_matrix\n",
    "# Evaluate the model on train and test sets\n",
    "train_loss, train_accuracy = model.evaluate(X_train, y_train)\n",
    "print(f'Train Loss: {train_loss}')\n",
    "print(f'Train Accuracy: {train_accuracy}')\n",
    "\n",
    "test_loss, test_accuracy = model.evaluate(X_test, y_test)\n",
    "print(f'Test Loss: {test_loss}')\n",
    "print(f'Test Accuracy: {test_accuracy}')\n",
    "\n",
    "# Generate predictions\n",
    "y_pred_probabilities = model.predict(X_test)\n",
    "y_pred = np.argmax(y_pred_probabilities, axis=1)\n",
    "\n",
    "# Print classification report and confusion matrix\n",
    "print(\"Test Set Classification Report:\")\n",
    "print(classification_report(y_test, y_pred))\n",
    "\n",
    "print(\"Test Set Confusion Matrix:\")\n",
    "print(confusion_matrix(y_test, y_pred))\n"
   ]
  },
  {
   "cell_type": "code",
   "execution_count": 178,
   "id": "80c7fad4-d43e-4586-baa0-39908ce4b10d",
   "metadata": {},
   "outputs": [
    {
     "name": "stdout",
     "output_type": "stream",
     "text": [
      "Correctly classified examples:\n",
      "Example 1: [ 0.96507732 -0.72571166 -0.5514331  -0.42702898]\n",
      "Example 2: [-0.4850497  -0.34975429  0.63418283 -1.59165346]\n",
      "Example 3: [ 0.41264798 -0.22443516  0.94014823 -0.42702898]\n",
      "Example 4: [ 0.76942526 -0.34975429  0.55769148 -0.81523714]\n",
      "Example 5: [-0.74975543  0.52747959 -0.32195905  1.12580367]\n",
      "\n",
      "Incorrectly classified examples:\n",
      "Example 1: [ 0.40113903 -0.47507341  0.48120013 -0.42702898]\n",
      "Example 2: [-0.45052287 -0.60039254 -0.51318742  0.34938734]\n"
     ]
    }
   ],
   "source": [
    "# Qualitative assessment\n",
    "# Correct classifications\n",
    "correct_indices = np.where(y_pred == y_test)[0]\n",
    "correct_examples = X_test[correct_indices[:5]]  # Displaying only first 5 correct examples\n",
    "print(\"Correctly classified examples:\")\n",
    "for i, example in enumerate(correct_examples):\n",
    "    print(f\"Example {i+1}: {example}\")\n",
    "\n",
    "# Incorrect classifications\n",
    "incorrect_indices = np.where(y_pred != y_test)[0]\n",
    "incorrect_examples = X_test[incorrect_indices[:5]]  # Displaying only first 5 incorrect examples\n",
    "print(\"\\nIncorrectly classified examples:\")\n",
    "for i, example in enumerate(incorrect_examples):\n",
    "    print(f\"Example {i+1}: {example}\")"
   ]
  },
  {
   "cell_type": "code",
   "execution_count": 179,
   "id": "55e7780a-f4fe-4eae-b6a5-3c6f55493789",
   "metadata": {},
   "outputs": [
    {
     "data": {
      "image/png": "[encoded data removed]",
      "text/plain": [
       "<Figure size 640x480 with 1 Axes>"
      ]
     },
     "metadata": {},
     "output_type": "display_data"
    }
   ],
   "source": [
    "# Plot the performance metrics\n",
    "plt.plot(history.history['loss'])\n",
    "plt.plot(history.history['val_loss'])\n",
    "plt.title('Model Loss')\n",
    "plt.xlabel('Epoch')\n",
    "plt.ylabel('Loss')\n",
    "plt.legend(['Train Loss', 'Test Loss'], loc='upper left')\n",
    "plt.show()"
   ]
  },
  {
   "cell_type": "code",
   "execution_count": 180,
   "id": "1ae00fff-42c5-42e3-80a8-6b1c884bf5a0",
   "metadata": {},
   "outputs": [
    {
     "data": {
      "image/png": "[encoded data removed]",
      "text/plain": [
       "<Figure size 640x480 with 1 Axes>"
      ]
     },
     "metadata": {},
     "output_type": "display_data"
    }
   ],
   "source": [
    "plt.plot(history.history['accuracy'])\n",
    "plt.plot(history.history['val_accuracy'])\n",
    "plt.title('Model Accuracy')\n",
    "plt.xlabel('Epoch')\n",
    "plt.ylabel('Accuracy')\n",
    "plt.legend(['Train Accuracy', 'Test Accuracy'], loc='upper left')\n",
    "plt.show()"
   ]
  }
 ],
 "metadata": {
  "kernelspec": {
   "display_name": "Python 3 (ipykernel)",
   "language": "python",
   "name": "python3"
  },
  "language_info": {
   "codemirror_mode": {
    "name": "ipython",
    "version": 3
   },
   "file_extension": ".py",
   "mimetype": "text/x-python",
   "name": "python",
   "nbconvert_exporter": "python",
   "pygments_lexer": "ipython3",
   "version": "3.11.7"
  }
 },
 "nbformat": 4,
 "nbformat_minor": 5
}
